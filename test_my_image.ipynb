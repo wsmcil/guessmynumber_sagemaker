{
 "cells": [
  {
   "cell_type": "code",
   "execution_count": 8,
   "metadata": {},
   "outputs": [
    {
     "ename": "UnicodeDecodeError",
     "evalue": "'ascii' codec can't decode byte 0x89 in position 0: ordinal not in range(128)",
     "output_type": "error",
     "traceback": [
      "\u001b[0;31m---------------------------------------------------------------------------\u001b[0m",
      "\u001b[0;31mUnicodeDecodeError\u001b[0m                        Traceback (most recent call last)",
      "\u001b[0;32m<ipython-input-8-c63a57e5d063>\u001b[0m in \u001b[0;36m<module>\u001b[0;34m()\u001b[0m\n\u001b[1;32m     20\u001b[0m \u001b[0;34m\u001b[0m\u001b[0m\n\u001b[1;32m     21\u001b[0m \u001b[0;31m#ser_image = np2csv(pickle.dumps(imagelist))\u001b[0m\u001b[0;34m\u001b[0m\u001b[0;34m\u001b[0m\u001b[0m\n\u001b[0;32m---> 22\u001b[0;31m \u001b[0mser_image\u001b[0m \u001b[0;34m=\u001b[0m \u001b[0mnp2csv\u001b[0m\u001b[0;34m(\u001b[0m\u001b[0mimagelist\u001b[0m\u001b[0;34m)\u001b[0m\u001b[0;34m\u001b[0m\u001b[0m\n\u001b[0m\u001b[1;32m     23\u001b[0m \u001b[0;34m\u001b[0m\u001b[0m\n\u001b[1;32m     24\u001b[0m \u001b[0mruntime\u001b[0m \u001b[0;34m=\u001b[0m \u001b[0mboto3\u001b[0m\u001b[0;34m.\u001b[0m\u001b[0mSession\u001b[0m\u001b[0;34m(\u001b[0m\u001b[0;34m)\u001b[0m\u001b[0;34m.\u001b[0m\u001b[0mclient\u001b[0m\u001b[0;34m(\u001b[0m\u001b[0;34m'runtime.sagemaker'\u001b[0m\u001b[0;34m)\u001b[0m\u001b[0;34m\u001b[0m\u001b[0m\n",
      "\u001b[0;32m<ipython-input-8-c63a57e5d063>\u001b[0m in \u001b[0;36mnp2csv\u001b[0;34m(arr)\u001b[0m\n\u001b[1;32m      8\u001b[0m \u001b[0;32mdef\u001b[0m \u001b[0mnp2csv\u001b[0m\u001b[0;34m(\u001b[0m\u001b[0marr\u001b[0m\u001b[0;34m)\u001b[0m\u001b[0;34m:\u001b[0m\u001b[0;34m\u001b[0m\u001b[0m\n\u001b[1;32m      9\u001b[0m     \u001b[0mcsv\u001b[0m \u001b[0;34m=\u001b[0m \u001b[0mio\u001b[0m\u001b[0;34m.\u001b[0m\u001b[0mBytesIO\u001b[0m\u001b[0;34m(\u001b[0m\u001b[0;34m)\u001b[0m\u001b[0;34m\u001b[0m\u001b[0m\n\u001b[0;32m---> 10\u001b[0;31m     \u001b[0mnumpy\u001b[0m\u001b[0;34m.\u001b[0m\u001b[0msavetxt\u001b[0m\u001b[0;34m(\u001b[0m\u001b[0mcsv\u001b[0m\u001b[0;34m,\u001b[0m \u001b[0marr\u001b[0m\u001b[0;34m,\u001b[0m \u001b[0mdelimiter\u001b[0m\u001b[0;34m=\u001b[0m\u001b[0;34m','\u001b[0m\u001b[0;34m,\u001b[0m \u001b[0mfmt\u001b[0m\u001b[0;34m=\u001b[0m\u001b[0;34m'%g'\u001b[0m\u001b[0;34m)\u001b[0m\u001b[0;34m\u001b[0m\u001b[0m\n\u001b[0m\u001b[1;32m     11\u001b[0m     \u001b[0;32mreturn\u001b[0m \u001b[0mcsv\u001b[0m\u001b[0;34m.\u001b[0m\u001b[0mgetvalue\u001b[0m\u001b[0;34m(\u001b[0m\u001b[0;34m)\u001b[0m\u001b[0;34m.\u001b[0m\u001b[0mdecode\u001b[0m\u001b[0;34m(\u001b[0m\u001b[0;34m)\u001b[0m\u001b[0;34m.\u001b[0m\u001b[0mrstrip\u001b[0m\u001b[0;34m(\u001b[0m\u001b[0;34m)\u001b[0m\u001b[0;34m\u001b[0m\u001b[0m\n\u001b[1;32m     12\u001b[0m \u001b[0;34m\u001b[0m\u001b[0m\n",
      "\u001b[0;32m~/anaconda3/envs/python3/lib/python3.6/site-packages/numpy/lib/npyio.py\u001b[0m in \u001b[0;36msavetxt\u001b[0;34m(fname, X, fmt, delimiter, newline, header, footer, comments, encoding)\u001b[0m\n\u001b[1;32m   1318\u001b[0m \u001b[0;34m\u001b[0m\u001b[0m\n\u001b[1;32m   1319\u001b[0m     \u001b[0;32mtry\u001b[0m\u001b[0;34m:\u001b[0m\u001b[0;34m\u001b[0m\u001b[0m\n\u001b[0;32m-> 1320\u001b[0;31m         \u001b[0mX\u001b[0m \u001b[0;34m=\u001b[0m \u001b[0mnp\u001b[0m\u001b[0;34m.\u001b[0m\u001b[0masarray\u001b[0m\u001b[0;34m(\u001b[0m\u001b[0mX\u001b[0m\u001b[0;34m)\u001b[0m\u001b[0;34m\u001b[0m\u001b[0m\n\u001b[0m\u001b[1;32m   1321\u001b[0m \u001b[0;34m\u001b[0m\u001b[0m\n\u001b[1;32m   1322\u001b[0m         \u001b[0;31m# Handle 1-dimensional arrays\u001b[0m\u001b[0;34m\u001b[0m\u001b[0;34m\u001b[0m\u001b[0m\n",
      "\u001b[0;32m~/anaconda3/envs/python3/lib/python3.6/site-packages/numpy/core/numeric.py\u001b[0m in \u001b[0;36masarray\u001b[0;34m(a, dtype, order)\u001b[0m\n\u001b[1;32m    490\u001b[0m \u001b[0;34m\u001b[0m\u001b[0m\n\u001b[1;32m    491\u001b[0m     \"\"\"\n\u001b[0;32m--> 492\u001b[0;31m     \u001b[0;32mreturn\u001b[0m \u001b[0marray\u001b[0m\u001b[0;34m(\u001b[0m\u001b[0ma\u001b[0m\u001b[0;34m,\u001b[0m \u001b[0mdtype\u001b[0m\u001b[0;34m,\u001b[0m \u001b[0mcopy\u001b[0m\u001b[0;34m=\u001b[0m\u001b[0;32mFalse\u001b[0m\u001b[0;34m,\u001b[0m \u001b[0morder\u001b[0m\u001b[0;34m=\u001b[0m\u001b[0morder\u001b[0m\u001b[0;34m)\u001b[0m\u001b[0;34m\u001b[0m\u001b[0m\n\u001b[0m\u001b[1;32m    493\u001b[0m \u001b[0;34m\u001b[0m\u001b[0m\n\u001b[1;32m    494\u001b[0m \u001b[0;34m\u001b[0m\u001b[0m\n",
      "\u001b[0;31mUnicodeDecodeError\u001b[0m: 'ascii' codec can't decode byte 0x89 in position 0: ordinal not in range(128)"
     ]
    }
   ],
   "source": [
    "import boto3\n",
    "import json\n",
    "import tempfile\n",
    "import pickle\n",
    "import numpy\n",
    "import io\n",
    "    \n",
    "def np2csv(arr):\n",
    "    csv = io.BytesIO()\n",
    "    numpy.savetxt(csv, arr, delimiter=',', fmt='%g')\n",
    "    return csv.getvalue().decode().rstrip()\n",
    "    \n",
    "endpoint_name=\"kmeans-2018-04-09-01-39-22-457\"\n",
    "    \n",
    "s3 = boto3.client('s3')\n",
    "response = s3.get_object(Bucket='project3img', Key='two.png')\n",
    "image = response['Body'].read()\n",
    "\n",
    "imagelist=[image,\"2\"]\n",
    "    \n",
    "#ser_image = np2csv(pickle.dumps(imagelist))\n",
    "ser_image = np2csv(imagelist)\n",
    "    \n",
    "runtime = boto3.Session().client('runtime.sagemaker')\n",
    "\n",
    "response = runtime.invoke_endpoint( EndpointName=endpoint_name, \n",
    "                                    ContentType='text/csv', \n",
    "                                    Body=ser_image)\n",
    "                                   \n",
    "result = json.loads(response['Body'].read().decode())\n",
    "print(result)"
   ]
  },
  {
   "cell_type": "code",
   "execution_count": 9,
   "metadata": {},
   "outputs": [
    {
     "name": "stdout",
     "output_type": "stream",
     "text": [
      "[b'\\x89PNG\\r\\n\\x1a\\n\\x00\\x00\\x00\\rIHDR\\x00\\x00\\x00\\x1c\\x00\\x00\\x00\\x1c\\x08\\x06\\x00\\x00\\x00r\\r\\xdf\\x94\\x00\\x00\\x01aiCCPkCGColorSpaceDisplayP3\\x00\\x00(\\x91c``RI,(\\xc8aa``\\xc8\\xcd+)\\nrwR\\x88\\x88\\x8cR`\\x7f\\xc8\\xc0\\x0e\\x84\\xbc\\x0cb\\x0c\\n\\x89\\xc9\\xc5\\x05\\x8e\\x01\\x01>@%\\x0c0\\x1a\\x15|\\xbb\\xc6\\xc0\\x08\\xa2/\\xeb\\x82\\xcc:%5\\xb5I\\xb5^\\xc0\\xd7b\\xa6\\xf0\\xd5\\x8b\\xafD\\x9b0\\xd5\\xa3\\x00\\xae\\x94\\xd4\\xe2d \\xfd\\x07\\x88S\\x93\\x0b\\x8aJ\\x18\\x18\\x18S\\x80l\\xe5\\xf2\\x92\\x02\\x10\\xbb\\x03\\xc8\\x16)\\x02:\\n\\xc8\\x9e\\x03b\\xa7C\\xd8\\x1b@\\xec$\\x08\\xfb\\x08XMH\\x903\\x90}\\x03\\xc8VH\\xceH\\x04\\x9a\\xc1\\xf8\\x03\\xc8\\xd6IB\\x12OGbC\\xed\\x05\\x01n\\x97\\xcc\\xe2\\x82\\x9c\\xc4J\\x85\\x00c\\x02\\xae%\\x03\\x94\\xa4V\\x94\\x80h\\xe7\\xfc\\x82\\xca\\xa2\\xcc\\xf4\\x8c\\x12\\x05G`(\\xa5*x\\xe6%\\xeb\\xe9(\\x18\\x19\\x18\\x9a30\\x80\\xc2\\x1c\\xa2\\xfas 8,\\x19\\xc5\\xce \\xc4\\x9a\\xef30\\xd8\\xee\\xff\\xff\\xff\\xffn\\x84\\x98\\xd7~\\x06\\x86\\x8d@\\x9d\\\\;\\x11b\\x1a\\x16\\x0c\\x0c\\x82\\xdc\\x0c\\x0c\\'v\\x16$\\x16%\\x82\\x85\\x98\\x81\\x98)-\\x8d\\x81\\xe1\\xd3r\\x06\\x06\\xdeH\\x06\\x06\\xe1\\x0b@=\\xd1\\xc5i\\xc6F`yF\\x1e\\'\\x06\\x06\\xd6{\\xff\\xff\\x7fVc``\\x9f\\xcc\\xc0\\xf0w\\xc2\\xff\\xff\\xbf\\x17\\xfd\\xff\\xffw1P\\xf3\\x1d\\x06\\x86\\x03y\\x00\\x15!e\\xee5\\xc7\\xd1\\xfb\\x00\\x00\\x00\\tpHYs\\x00\\x00\\x0b\\x13\\x00\\x00\\x0b\\x13\\x01\\x00\\x9a\\x9c\\x18\\x00\\x00\\x11\\x06iTXtXML:com.adobe.xmp\\x00\\x00\\x00\\x00\\x00<x:xmpmeta xmlns:x=\"adobe:ns:meta/\" x:xmptk=\"XMP Core 5.4.0\">\\n   <rdf:RDF xmlns:rdf=\"http://www.w3.org/1999/02/22-rdf-syntax-ns#\">\\n      <rdf:Description rdf:about=\"\"\\n            xmlns:exif=\"http://ns.adobe.com/exif/1.0/\"\\n            xmlns:tiff=\"http://ns.adobe.com/tiff/1.0/\"\\n            xmlns:xmp=\"http://ns.adobe.com/xap/1.0/\"\\n            xmlns:photoshop=\"http://ns.adobe.com/photoshop/1.0/\"\\n            xmlns:exifEX=\"http://cipa.jp/exif/1.0/\">\\n         <exif:FlashPixVersion>0100</exif:FlashPixVersion>\\n         <exif:SubjectArea>\\n            <rdf:Seq>\\n               <rdf:li>2015</rdf:li>\\n               <rdf:li>1511</rdf:li>\\n               <rdf:li>2217</rdf:li>\\n               <rdf:li>1330</rdf:li>\\n            </rdf:Seq>\\n         </exif:SubjectArea>\\n         <exif:GPSAltitudeRef>0</exif:GPSAltitudeRef>\\n         <exif:PixelXDimension>2230</exif:PixelXDimension>\\n         <exif:FocalLength>4/1</exif:FocalLength>\\n         <exif:SensingMethod>2</exif:SensingMethod>\\n         <exif:GPSAltitude>57/1</exif:GPSAltitude>\\n         <exif:SubsecTimeDigitized>377</exif:SubsecTimeDigitized>\\n         <exif:ExposureTime>1/20</exif:ExposureTime>\\n         <exif:GPSLatitude>33,37.3193N</exif:GPSLatitude>\\n         <exif:FocalLenIn35mmFilm>28</exif:FocalLenIn35mmFilm>\\n         <exif:GPSDirection>52051/196</exif:GPSDirection>\\n         <exif:BrightnessValue>3208/1017</exif:BrightnessValue>\\n         <exif:GPSSpeedRef>K</exif:GPSSpeedRef>\\n         <exif:ComponentsConfiguration>\\n            <rdf:Seq>\\n               <rdf:li>1</rdf:li>\\n               <rdf:li>2</rdf:li>\\n               <rdf:li>3</rdf:li>\\n               <rdf:li>0</rdf:li>\\n            </rdf:Seq>\\n         </exif:ComponentsConfiguration>\\n         <exif:GPSTimeStamp>2018-04-10T02:33:17+0000</exif:GPSTimeStamp>\\n         <exif:ExifVersion>0221</exif:ExifVersion>\\n         <exif:WhiteBalance>0</exif:WhiteBalance>\\n         <exif:GPSDestBearing>52051/196</exif:GPSDestBearing>\\n         <exif:ExposureProgram>2</exif:ExposureProgram>\\n         <exif:SubsecTimeOriginal>377</exif:SubsecTimeOriginal>\\n         <exif:ExposureMode>0</exif:ExposureMode>\\n         <exif:Flash rdf:parseType=\"Resource\">\\n            <exif:Function>False</exif:Function>\\n            <exif:Fired>False</exif:Fired>\\n            <exif:Return>0</exif:Return>\\n            <exif:Mode>3</exif:Mode>\\n            <exif:RedEyeMode>False</exif:RedEyeMode>\\n         </exif:Flash>\\n         <exif:GPSHPositioningError>5/1</exif:GPSHPositioningError>\\n         <exif:GPSSpeed>0/1</exif:GPSSpeed>\\n         <exif:ApertureValue>2159/1273</exif:ApertureValue>\\n         <exif:FNumber>9/5</exif:FNumber>\\n         <exif:GPSDirectionRef>T</exif:GPSDirectionRef>\\n         <exif:GPSLongitude>117,52.5682W</exif:GPSLongitude>\\n         <exif:ExposureBiasValue>0/1</exif:ExposureBiasValue>\\n         <exif:PixelYDimension>1908</exif:PixelYDimension>\\n         <exif:GPSDestBearingRef>T</exif:GPSDestBearingRef>\\n         <exif:MeteringMode>5</exif:MeteringMode>\\n         <exif:ISOSpeedRatings>\\n            <rdf:Seq>\\n               <rdf:li>40</rdf:li>\\n            </rdf:Seq>\\n         </exif:ISOSpeedRatings>\\n         <exif:SceneType>1</exif:SceneType>\\n         <exif:ShutterSpeedValue>15551/3596</exif:ShutterSpeedValue>\\n         <exif:SceneCaptureType>0</exif:SceneCaptureType>\\n         <tiff:TileLength>512</tiff:TileLength>\\n         <tiff:Orientation>1</tiff:Orientation>\\n         <tiff:ResolutionUnit>2</tiff:ResolutionUnit>\\n         <tiff:Make>Apple</tiff:Make>\\n         <tiff:TileWidth>512</tiff:TileWidth>\\n         <tiff:Model>iPhone X</tiff:Model>\\n         <xmp:CreatorTool>Photos 3.0</xmp:CreatorTool>\\n         <xmp:CreateDate>2018-04-09T19:33:17.377</xmp:CreateDate>\\n         <xmp:ModifyDate>2018-04-09T19:33:17</xmp:ModifyDate>\\n         <photoshop:DateCreated>2018-04-09T19:33:17.377</photoshop:DateCreated>\\n         <exifEX:PhotographicSensitivity>40</exifEX:PhotographicSensitivity>\\n         <exifEX:LensModel>iPhone X back dual camera 4mm f/1.8</exifEX:LensModel>\\n         <exifEX:LensSpecification>\\n            <rdf:Seq>\\n               <rdf:li>4/1</rdf:li>\\n               <rdf:li>6/1</rdf:li>\\n               <rdf:li>9/5</rdf:li>\\n               <rdf:li>12/5</rdf:li>\\n            </rdf:Seq>\\n         </exifEX:LensSpecification>\\n         <exifEX:LensMake>Apple</exifEX:LensMake>\\n      </rdf:Description>\\n   </rdf:RDF>\\n</x:xmpmeta>\\n`\\xba\\xadm\\x00\\x00\\x05\\x12IDATH\\rm\\x96I/\\xb4Y\\x14\\xc7OU=\\x862\\x8fe\\x8c\\x94T/\\xd0o\\x84D\\x88\\x90 \\xb1 b\\xefs\\xb0\\xb1\\xb4\\xb1\\x90\\x90X\\xf8\\x16V\"\"\\xe976\\x96,X\\xbe\\x8d\\xe8j\\xc4P\\t/b*5\\xf5\\xfd\\x9dr*O\\xa4\\x8f\\\\w:\\xf7\\xff?\\xd3\\xbdO\\x05VWWs\\xc5\\xc5\\xc5\\xd2\\xd6\\xd6&eee\\x92N\\xa7%\\x18\\x0cJ6\\x9b\\x95\\\\.\\'\\x81\\x80H(\\xe4\\xe9\\x1ask\\xe2$\\xe06i\\xe8\\xd3\\xd83ihh\\x90\\xc6\\xc6F\\x9bj\\xafz\\x06L\\x0f\\x99\\x01\\xda\\xe1L&\\xbf\\x9e\\xc9dt\\x1f=\\xc4\\xce\\xe9\\xc4\\xfdC\\x1f\\xf2\\xff\\x13[G\\xc7\\x03\\x88f\\x00\\xd9l~\\x8c\\x12\\xeb(\\xb1G+))QO\\xc49\\x92\\rfu\\x1f#C\\xa1P\\xc1[\\xce\\xe1\\'\\xe7\\xac\\xb1F\\x03\\xc3\\xc3\"\\\\e\\xc1\\xc2\\xc2\\x86_\\xd8#\\xec///r}}-\\x8f\\x8f\\x8fR]]-\\x9d\\x9d\\x9dJ\\x86a\\x1a.\\x87\\x83\\x98\\x81\\xf4\\x90\\x1a6{J\\xe8_\\xb0\\xb1)\\xaa\\x92\\xe7I<\\x1e\\x97\\xfd\\xfd}y{{S\\x80\\x9d\\x9d\\x1d\\x99\\x9f\\x9f\\x97\\xb1\\xb11\\xf1\\xdc>\\xfa\\x90\"`X\\xff}\\xec\\xa1\\xf8=t\\xac\\xe5\\xb2.\\x949\\x17\\x02\\x07vrr\"\\x9b\\x9b\\x9b255%\\xb1XLJKKexxX\\x16\\x17\\x17\\xa5\\xa6\\xa6F\\x06\\x06\\x06\\n\\x18~\\x02eu\\xff\\xc0C\\xd4(#\\xb3\\xc5B8\\x1c\\x19\\x87i\\x84qhhH[}}\\xbdVs\\x7f\\x7f\\xbf,//\\xcb\\xc6\\xc6\\x86\\xdc\\xde\\xdeJQQ\\x91\\x82\\xa2\\x0f\\x96\\x11[X\\r?4>>\\xbe\\x84rUU\\x95\\xe6\\xc3\\x148\\xcd\\xa1\\xac\\xab\\xd2HSD\\xa2\\xd1\\xa8[\\x10I\\xa5R\\x05oZ[[5\\xc4WWW\\xd2\\xd3\\xd3\\xa3\\xfa8\\x00\\x06x\\\\3#\\x07\\x8b\\x16\\xfc\\xfc\\xfc,T\\x9b\\x81Qy\\xd6R\\xe9\\x94V\\'\\x95\\x98N\\xa5\\x1dg\\xfe \\xba\\xc8\\xc8\\xc8\\x88\\x1c\\x1e\\x1eJ\\xe2.\\xa1\\xe0\\xac\\xe7\\xbe\\x8a\\xc5\\xbc\\xf2\\xf7\\xde\\xc7\\xc7\\x87\\x02B\\x8ce&(Y\\x11\\x00bU\\x98\\x92\\x94Z\\x8a\\xb5\\xef\\xef\\xef\\x9a\\xc3\\xf6\\xf6v\\x89\\xff\\x1b\\x97\\xda\\xbaZ5>\\xeb\\xf6\\xc03\\xa3\\xc0\\xb4J\\xd6{\\x887j\\xd9W\\xec5\\x94\\x8e\\\\C\\xe0\\xab<\\x0b7\\xeb\\x08s\\x8a\\xaa\\xa5\\xa5E\\x12\\x89\\x84F\\x05`\\xdb\\x03\\x13]\\xd3G\\xd7\\xa3\\xcc\\x19X\\xcf&\\xde\\x99\\x87\\xe6\\x99\\x1d\\xb4\\xc3\\xf4\\xec\\xf1\\x18\\xd0\\xf0\\x96ha<\\x02\\x99yh\\x0f\\x03\\x98\\x1e\\x97\\x19\\xe12s\\xb9M\\xd84\\x12#e\\xcf\\xd6\\x00\\xc1\\xd0d2)\\xf7\\xf7\\xf7\\xd2\\xd4\\xd4\\xa4\\xa4\\xcc9\\x8b\\x01\\xe5\\xe5\\xe5\\x1a\\x05t\\x8d\\xd4\\xb3p\\xa2\\xf8]\\xccK\\x94!\\xf5{\\x87\\xf5x\\xf6\\xf4\\xf4$\\x97\\x97\\x97\\xd2\\xdb\\xdb\\xaby\\x83\\x08]\\xc2mW\\xce\\xa2\\xa1)\\x00\\x94?\\xc4\\x9f#\\xac7o\\x00@\\xbe\\xcfY\\x8f\\xbb\\x17\\xa8\\xb6\\xb6V\\xaf\\x81y\\xa7\\x98\\x0e\\xd7/\\xac!\\xfa\\xd2P\\xea\\x90Y\\xfc!\\xc3\\x03\\xc2Mc\\x9d\\x03X\\x0c)\\xf7\\xb6\\xa2\\xa2B\\xef\\xd9\\xc5\\xc5\\x85\\xbe4\\xacS\\x99~1\\x123\\x00\\x1d%\\xf4+y^H\\x0b(\\xfeO\\\\~?\\xfe\\xd6<\\x91[\\xc2\\x8a\\x11\\x14\\xc6\\xc3\\xc3\\x83|\\xba\\xf1\\xdf\\xbf~Iww\\xb7\\x12\\x1b\\x86\\x19\\x058\\x82#:vS%d\\x91\\x01\\r\\xcb\\t\\xcb\\xd9\\xd9\\x99&\\x9c7\\x92\\xd7\\x82\\xd0Y\\x1e\\xf1\\x16\\xdd\\x9b\\x9b\\x1b)v\\xfa\\xaf\\xaf\\xaf\\xb2\\xb5\\xb5%\\x13\\x13\\x13z=\\xc0`\\xdf\\xce\\x80\\xcf8\\x18\\xf8\\xfa\"\\xb1\\xe9w\\x1d2>=f\\xb9\\xed[~\\xc3\\xe10\\x18\\x1a\\xea\\xc9\\xc9I\\x99\\x9b\\x9b\\xd3\\xfc\\xad\\xac\\xac\\xc8\\xc1\\xc1\\x81z\\x0f\\x1e\\x0f<DFna\\xd5\\xcf\\x13\\x00x\\x80\\xb5<\\xc4\\xa3\\xa3\\xa3\\x9a/B\\xe8?\\x84\\x0e\\xd7\\xe7\\xf4\\xf4Tx\\xc4\\xb9\\n\\x84{zzZb\\x7f\\xc4\\xe4\\xe7_?ewwW0\\x84\\x9f\\x1755\\xd5\\x0e\\xd9+\\xbc2\\x9c\\xd7\\x1c\\x9a\\x87\\xc4\\x9f\"\\xa1G\\xb0\\x0e%\\xc2\\x049\\xe5\\x7fww\\'<\\xda\\xfc\\x06\\xc2k\\n\\x05\\xd2\\x1f\\x7f\\xfe\\x90\\xd6\\x96V9>>\\xd6O\\xd9\\xd1\\xd1\\x91,,,H__\\x9f^\\x1f>\\x02\\xf0\\x84\\\\\\xe8\\x96\\xb8OT\\x1d\\xc0\\xe7\\xe7\\xe7J\\xd2\\xdc\\xdc\\xac\\xa4\\xe4\\x8c\\x8bM\\xf9\\x93\\xdfh4*\\xfc@\\xb2\\xe2 \\x02\\x10\\xd3\\xb8\\xe8\\x18288\\xa8\\xf7\\x93O\\x17\\xdf\\xcb\\xca\\xcaJ\\xa9\\xab\\xabS\\xbcPWW\\xd7\\x12y\\xa18\\xb0\\x94~ooO\\xady~~\\xd6o!\\x95I\\x08;::\\x14\\x14o\\xb1\\x96\\x08\\x980\\xb7\\xc8\\xa0KX\\t\\xf9\\xfa\\xfa\\xba\\xa6\\n#\\xc2\\xe1R\\xf1\\xb0\\x8c\\x834\\x0e\\xf0\\x10\\xcf\\xce\\xcej\\xf21 \\x12\\x89\\xe8\\xc5fl\\xa0\\xdcS\\x13#\\xf5c\\x10\\tr833#\\xdb\\xdb\\xdb\\x85\\xf3\\x01W\\xa9^\\xf23Y\\xb8\\xd8\\x80p\\x90\\x1cAL\\xb8\\x00\\xc7(\\xbcb\\xcfO\\xe6\\'5b;Cn\\t\\xfd\\xda\\xdaZ\\xe1\\x91\\x00\\xc7K~$5\\xf1\\xe4\\x8a\\x02\\xe1 \\x9e\\xe2\\rb\\xe1\\x03\\x88\\xe6\\xcf\\x1ds\\xf4L\\x979\\xa0\\xf4\\x08\\xe3\\xa8\\xcb9\\xc29\\xd6\\x83\\x00\\xa6\\xdc\\x97<\\xdf\\xa7TI5\\xdc?\\x032\\xeb\\x99\\xdb\\x98\\xde\\xc6F\\xea_\\x03\\x1c\\x07p\\x04b\\xd3\\xd1\\xafE&\\x93\\'4\"\\x0e\\x9a\\x95Fjd\\x16\\x05t\\xcd\\x1b\\xf4\\xd97`tL\\x8f\\x9eW\\x86\\xdfC\\xe8\\xfc\\x07\\x82\\xfb\\xd7\\xa5\\xc8[\\xfaW\\x00\\x00\\x00\\x00IEND\\xaeB`\\x82', '2']\n"
     ]
    }
   ],
   "source": [
    "print(imagelist)"
   ]
  },
  {
   "cell_type": "code",
   "execution_count": null,
   "metadata": {},
   "outputs": [],
   "source": []
  }
 ],
 "metadata": {
  "kernelspec": {
   "display_name": "conda_python3",
   "language": "python",
   "name": "conda_python3"
  },
  "language_info": {
   "codemirror_mode": {
    "name": "ipython",
    "version": 3
   },
   "file_extension": ".py",
   "mimetype": "text/x-python",
   "name": "python",
   "nbconvert_exporter": "python",
   "pygments_lexer": "ipython3",
   "version": "3.6.5"
  }
 },
 "nbformat": 4,
 "nbformat_minor": 2
}

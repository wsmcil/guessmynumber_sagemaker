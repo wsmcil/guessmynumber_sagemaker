{
 "cells": [
  {
   "cell_type": "markdown",
   "metadata": {},
   "source": [
    "## Summary\n",
    "\n",
    "This notebook is designed to predict the numerical value of images of hand-written numerals.\n",
    "\n",
    "The steps are\n",
    " 1. Load the mnist test data set\n",
    " 2. Provision the training compute instances\n",
    " 3. Train the model\n",
    " 4. Validate the model with known numbers\n",
    " 5. Test the model with unknown numbers"
   ]
  },
  {
   "cell_type": "code",
   "execution_count": 5,
   "metadata": {
    "isConfigCell": true
   },
   "outputs": [],
   "source": [
    "from sagemaker import get_execution_role\n",
    "\n",
    "role = get_execution_role()\n",
    "bucket='kb-sagemaker'"
   ]
  },
  {
   "cell_type": "markdown",
   "metadata": {},
   "source": [
    "### Data ingestion\n",
    "\n",
    "Load the mnist data set from [here](http://yann.lecun.com/exdb/mnist/)."
   ]
  },
  {
   "cell_type": "code",
   "execution_count": 6,
   "metadata": {},
   "outputs": [
    {
     "name": "stdout",
     "output_type": "stream",
     "text": [
      "CPU times: user 849 ms, sys: 249 ms, total: 1.1 s\n",
      "Wall time: 3.28 s\n"
     ]
    }
   ],
   "source": [
    "%%time\n",
    "import pickle, gzip, numpy, urllib.request, json\n",
    "\n",
    "# Load the dataset\n",
    "urllib.request.urlretrieve(\"http://deeplearning.net/data/mnist/mnist.pkl.gz\", \"mnist.pkl.gz\")\n",
    "with gzip.open('mnist.pkl.gz', 'rb') as f:\n",
    "    train_set, valid_set, test_set = pickle.load(f, encoding='latin1')"
   ]
  },
  {
   "cell_type": "markdown",
   "metadata": {},
   "source": [
    "### Sample data\n"
   ]
  },
  {
   "cell_type": "code",
   "execution_count": 7,
   "metadata": {},
   "outputs": [
    {
     "data": {
      "image/png": "[encoded data removed]",
      "text/plain": [
       "<Figure size 144x720 with 1 Axes>"
      ]
     },
     "metadata": {},
     "output_type": "display_data"
    }
   ],
   "source": [
    "%matplotlib inline\n",
    "import matplotlib.pyplot as plt\n",
    "plt.rcParams[\"figure.figsize\"] = (2,10)\n",
    "\n",
    "\n",
    "def show_digit(img, caption='', subplot=None):\n",
    "    if subplot==None:\n",
    "        _,(subplot)=plt.subplots(1,1)\n",
    "    imgr=img.reshape((28,28))\n",
    "    subplot.axis('off')\n",
    "    subplot.imshow(imgr, cmap='gray')\n",
    "    plt.title(caption)\n",
    "\n",
    "show_digit(train_set[0][30], 'This is a {}'.format(train_set[1][30]))"
   ]
  },
  {
   "cell_type": "markdown",
   "metadata": {},
   "source": [
    "## Train the kmeans model\n",
    "1. Provision two compute-optimized servers with kmeans containers\n",
    "2. Train the model with mnsit data"
   ]
  },
  {
   "cell_type": "code",
   "execution_count": 8,
   "metadata": {},
   "outputs": [
    {
     "name": "stdout",
     "output_type": "stream",
     "text": [
      "training data will be uploaded to: s3://kb-sagemaker/kmeans_highlevel_project3/data\n",
      "training artifacts will be uploaded to: s3://kb-sagemaker/kmeans_project3/output\n"
     ]
    }
   ],
   "source": [
    "from sagemaker import KMeans\n",
    "\n",
    "data_location = 's3://{}/kmeans_highlevel_project3/data'.format(bucket)\n",
    "output_location = 's3://{}/kmeans_project3/output'.format(bucket)\n",
    "\n",
    "print('training data will be uploaded to: {}'.format(data_location))\n",
    "print('training artifacts will be uploaded to: {}'.format(output_location))\n",
    "\n",
    "kmeans = KMeans(role=role,\n",
    "                train_instance_count=2,\n",
    "                train_instance_type='ml.c4.8xlarge',\n",
    "                output_path=output_location,\n",
    "                k=10,\n",
    "                data_location=data_location)"
   ]
  },
  {
   "cell_type": "code",
   "execution_count": 9,
   "metadata": {},
   "outputs": [
    {
     "name": "stderr",
     "output_type": "stream",
     "text": [
      "INFO:sagemaker:Creating training-job with name: kmeans-2018-10-30-22-57-45-205\n"
     ]
    },
    {
     "name": "stdout",
     "output_type": "stream",
     "text": [
      "2018-10-30 22:57:45 Starting - Starting the training job...\n",
      "2018-10-30 22:57:46 Starting - Launching requested ML instances......\n",
      "2018-10-30 22:58:47 Starting - Preparing the instances for training......\n",
      "2018-10-30 23:00:13 Downloading - Downloading input data\n",
      "2018-10-30 23:00:13 Training - Training image download completed. Training in progress..\n",
      "\u001b[31mDocker entrypoint called with argument(s): train\u001b[0m\n",
      "\u001b[32mDocker entrypoint called with argument(s): train\u001b[0m\n",
      "\u001b[32m[10/30/2018 23:00:13 INFO 140596585867072] Reading default configuration from /opt/amazon/lib/python2.7/site-packages/algorithm/resources/default-input.json: {u'_tuning_objective_metric': u'', u'_num_gpus': u'auto', u'local_lloyd_num_trials': u'auto', u'_log_level': u'info', u'_kvstore': u'auto', u'local_lloyd_init_method': u'kmeans++', u'force_dense': u'true', u'epochs': u'1', u'init_method': u'random', u'local_lloyd_tol': u'0.0001', u'local_lloyd_max_iter': u'300', u'_disable_wait_to_read': u'false', u'extra_center_factor': u'auto', u'eval_metrics': u'[\"msd\"]', u'_num_kv_servers': u'1', u'mini_batch_size': u'5000', u'half_life_time_size': u'0', u'_num_slices': u'1'}\u001b[0m\n",
      "\u001b[32m[10/30/2018 23:00:13 INFO 140596585867072] Reading provided configuration from /opt/ml/input/config/hyperparameters.json: {u'feature_dim': u'784', u'k': u'10', u'force_dense': u'True'}\u001b[0m\n",
      "\u001b[32m[10/30/2018 23:00:13 INFO 140596585867072] Final configuration: {u'k': u'10', u'_tuning_objective_metric': u'', u'_num_gpus': u'auto', u'local_lloyd_num_trials': u'auto', u'_log_level': u'info', u'_kvstore': u'auto', u'local_lloyd_init_method': u'kmeans++', u'force_dense': u'True', u'epochs': u'1', u'init_method': u'random', u'feature_dim': u'784', u'local_lloyd_tol': u'0.0001', u'local_lloyd_max_iter': u'300', u'_disable_wait_to_read': u'false', u'extra_center_factor': u'auto', u'eval_metrics': u'[\"msd\"]', u'_num_kv_servers': u'1', u'mini_batch_size': u'5000', u'half_life_time_size': u'0', u'_num_slices': u'1'}\u001b[0m\n",
      "\u001b[32m[10/30/2018 23:00:13 WARNING 140596585867072] Loggers have already been setup.\u001b[0m\n",
      "\u001b[32m[10/30/2018 23:00:15 INFO 140596585867072] Environment: {'ECS_CONTAINER_METADATA_URI': 'http://169.254.170.2/v3/39555d73-bc86-45f0-8483-006d9ab9915a', 'PROTOCOL_BUFFERS_PYTHON_IMPLEMENTATION_VERSION': '2', 'DMLC_PS_ROOT_PORT': '9000', 'DMLC_NUM_WORKER': '2', 'SAGEMAKER_HTTP_PORT': '8080', 'PATH': '/opt/amazon/bin:/usr/local/nvidia/bin:/usr/local/sbin:/usr/local/bin:/usr/sbin:/usr/bin:/sbin:/bin:/opt/amazon/bin:/opt/amazon/bin', 'PYTHONUNBUFFERED': 'TRUE', 'CANONICAL_ENVROOT': '/opt/amazon', 'LD_LIBRARY_PATH': '/usr/local/nvidia/lib64:/opt/amazon/lib', 'MXNET_KVSTORE_BIGARRAY_BOUND': '400000000', 'LANG': 'en_US.utf8', 'DMLC_INTERFACE': 'ethwe', 'SHLVL': '1', 'DMLC_PS_ROOT_URI': '10.40.0.3', 'AWS_REGION': 'us-west-2', 'NVIDIA_VISIBLE_DEVICES': 'all', 'TRAINING_JOB_NAME': 'kmeans-2018-10-30-22-57-45-205', 'HOME': '/root', 'PROTOCOL_BUFFERS_PYTHON_IMPLEMENTATION': 'cpp', 'ENVROOT': '/opt/amazon', 'SAGEMAKER_DATA_PATH': '/opt/ml', 'NVIDIA_DRIVER_CAPABILITIES': 'compute,utility', 'NVIDIA_REQUIRE_CUDA': 'cuda>=9.0', 'OMP_NUM_THREADS': '18', 'HOSTNAME': 'aws', 'AWS_CONTAINER_CREDENTIALS_RELATIVE_URI': '/v2/credentials/c802fbfd-9294-4dd1-89f1-0848d2ee1493', 'DMLC_ROLE': 'worker', 'PWD': '/', 'DMLC_NUM_SERVER': '1'}\u001b[0m\n",
      "\u001b[32m[10/30/2018 23:00:15 INFO 140596585867072] Using default worker.\u001b[0m\n",
      "\u001b[32m[10/30/2018 23:00:15 INFO 140596585867072] Loaded iterator creator application/x-recordio-protobuf for content type ('application/x-recordio-protobuf', '1.0')\u001b[0m\n",
      "\u001b[32m[10/30/2018 23:00:15 INFO 140596585867072] Create Store: dist_async\u001b[0m\n",
      "\u001b[31m[10/30/2018 23:00:16 INFO 139977314821952] Reading default configuration from /opt/amazon/lib/python2.7/site-packages/algorithm/resources/default-input.json: {u'_tuning_objective_metric': u'', u'_num_gpus': u'auto', u'local_lloyd_num_trials': u'auto', u'_log_level': u'info', u'_kvstore': u'auto', u'local_lloyd_init_method': u'kmeans++', u'force_dense': u'true', u'epochs': u'1', u'init_method': u'random', u'local_lloyd_tol': u'0.0001', u'local_lloyd_max_iter': u'300', u'_disable_wait_to_read': u'false', u'extra_center_factor': u'auto', u'eval_metrics': u'[\"msd\"]', u'_num_kv_servers': u'1', u'mini_batch_size': u'5000', u'half_life_time_size': u'0', u'_num_slices': u'1'}\u001b[0m\n",
      "\u001b[31m[10/30/2018 23:00:16 INFO 139977314821952] Reading provided configuration from /opt/ml/input/config/hyperparameters.json: {u'feature_dim': u'784', u'k': u'10', u'force_dense': u'True'}\u001b[0m\n",
      "\u001b[31m[10/30/2018 23:00:16 INFO 139977314821952] Final configuration: {u'k': u'10', u'_tuning_objective_metric': u'', u'_num_gpus': u'auto', u'local_lloyd_num_trials': u'auto', u'_log_level': u'info', u'_kvstore': u'auto', u'local_lloyd_init_method': u'kmeans++', u'force_dense': u'True', u'epochs': u'1', u'init_method': u'random', u'feature_dim': u'784', u'local_lloyd_tol': u'0.0001', u'local_lloyd_max_iter': u'300', u'_disable_wait_to_read': u'false', u'extra_center_factor': u'auto', u'eval_metrics': u'[\"msd\"]', u'_num_kv_servers': u'1', u'mini_batch_size': u'5000', u'half_life_time_size': u'0', u'_num_slices': u'1'}\u001b[0m\n",
      "\u001b[31m[10/30/2018 23:00:16 WARNING 139977314821952] Loggers have already been setup.\u001b[0m\n",
      "\u001b[31m[10/30/2018 23:00:16 INFO 139977314821952] Launching parameter server for role scheduler\u001b[0m\n",
      "\u001b[31m[10/30/2018 23:00:16 INFO 139977314821952] {'ECS_CONTAINER_METADATA_URI': 'http://169.254.170.2/v3/223ba72e-db51-48cf-9860-8524d35ad3f7', 'PROTOCOL_BUFFERS_PYTHON_IMPLEMENTATION_VERSION': '2', 'PATH': '/opt/amazon/bin:/usr/local/nvidia/bin:/usr/local/sbin:/usr/local/bin:/usr/sbin:/usr/bin:/sbin:/bin:/opt/amazon/bin:/opt/amazon/bin', 'SAGEMAKER_HTTP_PORT': '8080', 'HOME': '/root', 'PYTHONUNBUFFERED': 'TRUE', 'CANONICAL_ENVROOT': '/opt/amazon', 'LD_LIBRARY_PATH': '/usr/local/nvidia/lib64:/opt/amazon/lib', 'MXNET_KVSTORE_BIGARRAY_BOUND': '400000000', 'LANG': 'en_US.utf8', 'DMLC_INTERFACE': 'ethwe', 'SHLVL': '1', 'AWS_REGION': 'us-west-2', 'NVIDIA_VISIBLE_DEVICES': 'all', 'TRAINING_JOB_NAME': 'kmeans-2018-10-30-22-57-45-205', 'PROTOCOL_BUFFERS_PYTHON_IMPLEMENTATION': 'cpp', 'ENVROOT': '/opt/amazon', 'SAGEMAKER_DATA_PATH': '/opt/ml', 'NVIDIA_DRIVER_CAPABILITIES': 'compute,utility', 'NVIDIA_REQUIRE_CUDA': 'cuda>=9.0', 'OMP_NUM_THREADS': '18', 'HOSTNAME': 'aws', 'AWS_CONTAINER_CREDENTIALS_RELATIVE_URI': '/v2/credentials/f93fcf2b-afa8-4ed5-b2a1-48f6e3556784', 'PWD': '/'}\u001b[0m\n",
      "\u001b[31m[10/30/2018 23:00:16 INFO 139977314821952] envs={'ECS_CONTAINER_METADATA_URI': 'http://169.254.170.2/v3/223ba72e-db51-48cf-9860-8524d35ad3f7', 'PROTOCOL_BUFFERS_PYTHON_IMPLEMENTATION_VERSION': '2', 'DMLC_NUM_WORKER': '2', 'DMLC_PS_ROOT_PORT': '9000', 'PATH': '/opt/amazon/bin:/usr/local/nvidia/bin:/usr/local/sbin:/usr/local/bin:/usr/sbin:/usr/bin:/sbin:/bin:/opt/amazon/bin:/opt/amazon/bin', 'SAGEMAKER_HTTP_PORT': '8080', 'HOME': '/root', 'PYTHONUNBUFFERED': 'TRUE', 'CANONICAL_ENVROOT': '/opt/amazon', 'LD_LIBRARY_PATH': '/usr/local/nvidia/lib64:/opt/amazon/lib', 'MXNET_KVSTORE_BIGARRAY_BOUND': '400000000', 'LANG': 'en_US.utf8', 'DMLC_INTERFACE': 'ethwe', 'SHLVL': '1', 'DMLC_PS_ROOT_URI': '10.40.0.3', 'AWS_REGION': 'us-west-2', 'NVIDIA_VISIBLE_DEVICES': 'all', 'TRAINING_JOB_NAME': 'kmeans-2018-10-30-22-57-45-205', 'PROTOCOL_BUFFERS_PYTHON_IMPLEMENTATION': 'cpp', 'ENVROOT': '/opt/amazon', 'SAGEMAKER_DATA_PATH': '/opt/ml', 'NVIDIA_DRIVER_CAPABILITIES': 'compute,utility', 'NVIDIA_REQUIRE_CUDA': 'cuda>=9.0', 'OMP_NUM_THREADS': '18', 'HOSTNAME': 'aws', 'AWS_CONTAINER_CREDENTIALS_RELATIVE_URI': '/v2/credentials/f93fcf2b-afa8-4ed5-b2a1-48f6e3556784', 'DMLC_ROLE': 'scheduler', 'PWD': '/', 'DMLC_NUM_SERVER': '1'}\u001b[0m\n",
      "\u001b[31m[10/30/2018 23:00:16 INFO 139977314821952] Launching parameter server for role server\u001b[0m\n",
      "\u001b[31m[10/30/2018 23:00:16 INFO 139977314821952] {'ECS_CONTAINER_METADATA_URI': 'http://169.254.170.2/v3/223ba72e-db51-48cf-9860-8524d35ad3f7', 'PROTOCOL_BUFFERS_PYTHON_IMPLEMENTATION_VERSION': '2', 'PATH': '/opt/amazon/bin:/usr/local/nvidia/bin:/usr/local/sbin:/usr/local/bin:/usr/sbin:/usr/bin:/sbin:/bin:/opt/amazon/bin:/opt/amazon/bin', 'SAGEMAKER_HTTP_PORT': '8080', 'HOME': '/root', 'PYTHONUNBUFFERED': 'TRUE', 'CANONICAL_ENVROOT': '/opt/amazon', 'LD_LIBRARY_PATH': '/usr/local/nvidia/lib64:/opt/amazon/lib', 'MXNET_KVSTORE_BIGARRAY_BOUND': '400000000', 'LANG': 'en_US.utf8', 'DMLC_INTERFACE': 'ethwe', 'SHLVL': '1', 'AWS_REGION': 'us-west-2', 'NVIDIA_VISIBLE_DEVICES': 'all', 'TRAINING_JOB_NAME': 'kmeans-2018-10-30-22-57-45-205', 'PROTOCOL_BUFFERS_PYTHON_IMPLEMENTATION': 'cpp', 'ENVROOT': '/opt/amazon', 'SAGEMAKER_DATA_PATH': '/opt/ml', 'NVIDIA_DRIVER_CAPABILITIES': 'compute,utility', 'NVIDIA_REQUIRE_CUDA': 'cuda>=9.0', 'OMP_NUM_THREADS': '18', 'HOSTNAME': 'aws', 'AWS_CONTAINER_CREDENTIALS_RELATIVE_URI': '/v2/credentials/f93fcf2b-afa8-4ed5-b2a1-48f6e3556784', 'PWD': '/'}\u001b[0m\n",
      "\u001b[31m[10/30/2018 23:00:16 INFO 139977314821952] envs={'ECS_CONTAINER_METADATA_URI': 'http://169.254.170.2/v3/223ba72e-db51-48cf-9860-8524d35ad3f7', 'PROTOCOL_BUFFERS_PYTHON_IMPLEMENTATION_VERSION': '2', 'DMLC_NUM_WORKER': '2', 'DMLC_PS_ROOT_PORT': '9000', 'PATH': '/opt/amazon/bin:/usr/local/nvidia/bin:/usr/local/sbin:/usr/local/bin:/usr/sbin:/usr/bin:/sbin:/bin:/opt/amazon/bin:/opt/amazon/bin', 'SAGEMAKER_HTTP_PORT': '8080', 'HOME': '/root', 'PYTHONUNBUFFERED': 'TRUE', 'CANONICAL_ENVROOT': '/opt/amazon', 'LD_LIBRARY_PATH': '/usr/local/nvidia/lib64:/opt/amazon/lib', 'MXNET_KVSTORE_BIGARRAY_BOUND': '400000000', 'LANG': 'en_US.utf8', 'DMLC_INTERFACE': 'ethwe', 'SHLVL': '1', 'DMLC_PS_ROOT_URI': '10.40.0.3', 'AWS_REGION': 'us-west-2', 'NVIDIA_VISIBLE_DEVICES': 'all', 'TRAINING_JOB_NAME': 'kmeans-2018-10-30-22-57-45-205', 'PROTOCOL_BUFFERS_PYTHON_IMPLEMENTATION': 'cpp', 'ENVROOT': '/opt/amazon', 'SAGEMAKER_DATA_PATH': '/opt/ml', 'NVIDIA_DRIVER_CAPABILITIES': 'compute,utility', 'NVIDIA_REQUIRE_CUDA': 'cuda>=9.0', 'OMP_NUM_THREADS': '18', 'HOSTNAME': 'aws', 'AWS_CONTAINER_CREDENTIALS_RELATIVE_URI': '/v2/credentials/f93fcf2b-afa8-4ed5-b2a1-48f6e3556784', 'DMLC_ROLE': 'server', 'PWD': '/', 'DMLC_NUM_SERVER': '1'}\u001b[0m\n",
      "\u001b[31m[10/30/2018 23:00:16 INFO 139977314821952] Environment: {'ECS_CONTAINER_METADATA_URI': 'http://169.254.170.2/v3/223ba72e-db51-48cf-9860-8524d35ad3f7', 'PROTOCOL_BUFFERS_PYTHON_IMPLEMENTATION_VERSION': '2', 'DMLC_PS_ROOT_PORT': '9000', 'DMLC_NUM_WORKER': '2', 'SAGEMAKER_HTTP_PORT': '8080', 'PATH': '/opt/amazon/bin:/usr/local/nvidia/bin:/usr/local/sbin:/usr/local/bin:/usr/sbin:/usr/bin:/sbin:/bin:/opt/amazon/bin:/opt/amazon/bin', 'PYTHONUNBUFFERED': 'TRUE', 'CANONICAL_ENVROOT': '/opt/amazon', 'LD_LIBRARY_PATH': '/usr/local/nvidia/lib64:/opt/amazon/lib', 'MXNET_KVSTORE_BIGARRAY_BOUND': '400000000', 'LANG': 'en_US.utf8', 'DMLC_INTERFACE': 'ethwe', 'SHLVL': '1', 'DMLC_PS_ROOT_URI': '10.40.0.3', 'AWS_REGION': 'us-west-2', 'NVIDIA_VISIBLE_DEVICES': 'all', 'TRAINING_JOB_NAME': 'kmeans-2018-10-30-22-57-45-205', 'HOME': '/root', 'PROTOCOL_BUFFERS_PYTHON_IMPLEMENTATION': 'cpp', 'ENVROOT': '/opt/amazon', 'SAGEMAKER_DATA_PATH': '/opt/ml', 'NVIDIA_DRIVER_CAPABILITIES': 'compute,utility', 'NVIDIA_REQUIRE_CUDA': 'cuda>=9.0', 'OMP_NUM_THREADS': '18', 'HOSTNAME': 'aws', 'AWS_CONTAINER_CREDENTIALS_RELATIVE_URI': '/v2/credentials/f93fcf2b-afa8-4ed5-b2a1-48f6e3556784', 'DMLC_ROLE': 'worker', 'PWD': '/', 'DMLC_NUM_SERVER': '1'}\u001b[0m\n",
      "\u001b[31m[10/30/2018 23:00:16 INFO 139977314821952] Using default worker.\u001b[0m\n",
      "\u001b[31m[10/30/2018 23:00:16 INFO 139977314821952] Loaded iterator creator application/x-recordio-protobuf for content type ('application/x-recordio-protobuf', '1.0')\u001b[0m\n",
      "\u001b[31m[10/30/2018 23:00:16 INFO 139977314821952] Create Store: dist_async\u001b[0m\n",
      "\u001b[32m[10/30/2018 23:00:17 INFO 140596585867072] nvidia-smi took: 0.0252878665924 secs to identify 0 gpus\u001b[0m\n",
      "\u001b[32m[10/30/2018 23:00:17 INFO 140596585867072] Number of GPUs being used: 0\u001b[0m\n",
      "\u001b[32m[10/30/2018 23:00:17 INFO 140596585867072] Setting up with params: {u'k': u'10', u'_tuning_objective_metric': u'', u'_num_gpus': u'auto', u'local_lloyd_num_trials': u'auto', u'_log_level': u'info', u'_kvstore': u'auto', u'local_lloyd_init_method': u'kmeans++', u'force_dense': u'True', u'epochs': u'1', u'init_method': u'random', u'feature_dim': u'784', u'local_lloyd_tol': u'0.0001', u'local_lloyd_max_iter': u'300', u'_disable_wait_to_read': u'false', u'extra_center_factor': u'auto', u'eval_metrics': u'[\"msd\"]', u'_num_kv_servers': u'1', u'mini_batch_size': u'5000', u'half_life_time_size': u'0', u'_num_slices': u'1'}\u001b[0m\n",
      "\u001b[32m/opt/amazon/lib/python2.7/site-packages/ai_algorithms_sdk/config/config_helper.py:172: DeprecationWarning: deprecated\n",
      "  warnings.warn(\"deprecated\", DeprecationWarning)\u001b[0m\n",
      "\u001b[32m/opt/amazon/lib/python2.7/site-packages/ai_algorithms_sdk/config/config_helper.py:122: DeprecationWarning: deprecated\n",
      "  warnings.warn(\"deprecated\", DeprecationWarning)\u001b[0m\n",
      "\u001b[32m[10/30/2018 23:00:17 INFO 140596585867072] Number of GPUs being used: 0\u001b[0m\n",
      "\u001b[32m[10/30/2018 23:00:17 INFO 140596585867072] number of center slices 1\u001b[0m\n",
      "\u001b[32m#metrics {\"Metrics\": {\"Max Batches Seen Between Resets\": {\"count\": 1, \"max\": 1, \"sum\": 1.0, \"min\": 1}, \"Number of Batches Since Last Reset\": {\"count\": 1, \"max\": 1, \"sum\": 1.0, \"min\": 1}, \"Number of Records Since Last Reset\": {\"count\": 1, \"max\": 5000, \"sum\": 5000.0, \"min\": 5000}, \"Total Batches Seen\": {\"count\": 1, \"max\": 1, \"sum\": 1.0, \"min\": 1}, \"Total Records Seen\": {\"count\": 1, \"max\": 5000, \"sum\": 5000.0, \"min\": 5000}, \"Max Records Seen Between Resets\": {\"count\": 1, \"max\": 5000, \"sum\": 5000.0, \"min\": 5000}, \"Reset Count\": {\"count\": 1, \"max\": 0, \"sum\": 0.0, \"min\": 0}}, \"EndTime\": 1540940417.240112, \"Dimensions\": {\"Host\": \"algo-2\", \"Meta\": \"init_train_data_iter\", \"Operation\": \"training\", \"Algorithm\": \"AWS/KMeansWebscale\"}, \"StartTime\": 1540940417.240081}\n",
      "\u001b[0m\n",
      "\u001b[32m[2018-10-30 23:00:17.245] [tensorio] [info] data_pipeline_stats={\"name\": \"/opt/ml/input/data/train\", \"epoch\": 1, \"duration\": 45, \"num_examples\": 1}\u001b[0m\n",
      "\u001b[31m[10/30/2018 23:00:17 INFO 139977314821952] nvidia-smi took: 0.0251829624176 secs to identify 0 gpus\u001b[0m\n",
      "\u001b[31m[10/30/2018 23:00:17 INFO 139977314821952] Number of GPUs being used: 0\u001b[0m\n",
      "\u001b[31m[10/30/2018 23:00:17 INFO 139977314821952] Setting up with params: {u'k': u'10', u'_tuning_objective_metric': u'', u'_num_gpus': u'auto', u'local_lloyd_num_trials': u'auto', u'_log_level': u'info', u'_kvstore': u'auto', u'local_lloyd_init_method': u'kmeans++', u'force_dense': u'True', u'epochs': u'1', u'init_method': u'random', u'feature_dim': u'784', u'local_lloyd_tol': u'0.0001', u'local_lloyd_max_iter': u'300', u'_disable_wait_to_read': u'false', u'extra_center_factor': u'auto', u'eval_metrics': u'[\"msd\"]', u'_num_kv_servers': u'1', u'mini_batch_size': u'5000', u'half_life_time_size': u'0', u'_num_slices': u'1'}\u001b[0m\n",
      "\u001b[31m/opt/amazon/lib/python2.7/site-packages/ai_algorithms_sdk/config/config_helper.py:172: DeprecationWarning: deprecated\n",
      "  warnings.warn(\"deprecated\", DeprecationWarning)\u001b[0m\n",
      "\u001b[31m/opt/amazon/lib/python2.7/site-packages/ai_algorithms_sdk/config/config_helper.py:122: DeprecationWarning: deprecated\n",
      "  warnings.warn(\"deprecated\", DeprecationWarning)\u001b[0m\n",
      "\u001b[31m[10/30/2018 23:00:17 INFO 139977314821952] Number of GPUs being used: 0\u001b[0m\n",
      "\u001b[31m[10/30/2018 23:00:17 INFO 139977314821952] number of center slices 1\u001b[0m\n",
      "\u001b[31m#metrics {\"Metrics\": {\"Max Batches Seen Between Resets\": {\"count\": 1, \"max\": 1, \"sum\": 1.0, \"min\": 1}, \"Number of Batches Since Last Reset\": {\"count\": 1, \"max\": 1, \"sum\": 1.0, \"min\": 1}, \"Number of Records Since Last Reset\": {\"count\": 1, \"max\": 5000, \"sum\": 5000.0, \"min\": 5000}, \"Total Batches Seen\": {\"count\": 1, \"max\": 1, \"sum\": 1.0, \"min\": 1}, \"Total Records Seen\": {\"count\": 1, \"max\": 5000, \"sum\": 5000.0, \"min\": 5000}, \"Max Records Seen Between Resets\": {\"count\": 1, \"max\": 5000, \"sum\": 5000.0, \"min\": 5000}, \"Reset Count\": {\"count\": 1, \"max\": 0, \"sum\": 0.0, \"min\": 0}}, \"EndTime\": 1540940417.239571, \"Dimensions\": {\"Host\": \"algo-1\", \"Meta\": \"init_train_data_iter\", \"Operation\": \"training\", \"Algorithm\": \"AWS/KMeansWebscale\"}, \"StartTime\": 1540940417.23954}\n",
      "\u001b[0m\n",
      "\u001b[31m[2018-10-30 23:00:17.243] [tensorio] [info] data_pipeline_stats={\"name\": \"/opt/ml/input/data/train\", \"epoch\": 1, \"duration\": 44, \"num_examples\": 1}\u001b[0m\n",
      "\u001b[31m[10/30/2018 23:00:17 INFO 139977314821952] processed a total of 25000 examples\u001b[0m\n",
      "\u001b[31m[10/30/2018 23:00:17 INFO 139977314821952] #progress_metric: host=algo-1, completed 100 % of epochs\u001b[0m\n",
      "\u001b[31m#metrics {\"Metrics\": {\"Max Batches Seen Between Resets\": {\"count\": 1, \"max\": 5, \"sum\": 5.0, \"min\": 5}, \"Number of Batches Since Last Reset\": {\"count\": 1, \"max\": 5, \"sum\": 5.0, \"min\": 5}, \"Number of Records Since Last Reset\": {\"count\": 1, \"max\": 25000, \"sum\": 25000.0, \"min\": 25000}, \"Total Batches Seen\": {\"count\": 1, \"max\": 6, \"sum\": 6.0, \"min\": 6}, \"Total Records Seen\": {\"count\": 1, \"max\": 30000, \"sum\": 30000.0, \"min\": 30000}, \"Max Records Seen Between Resets\": {\"count\": 1, \"max\": 25000, \"sum\": 25000.0, \"min\": 25000}, \"Reset Count\": {\"count\": 1, \"max\": 1, \"sum\": 1.0, \"min\": 1}}, \"EndTime\": 1540940417.429544, \"Dimensions\": {\"Host\": \"algo-1\", \"Meta\": \"training_data_iter\", \"Operation\": \"training\", \"Algorithm\": \"AWS/KMeansWebscale\", \"epoch\": 0}, \"StartTime\": 1540940417.244028}\n",
      "\u001b[0m\n",
      "\u001b[31m[10/30/2018 23:00:17 INFO 139977314821952] #throughput_metric: host=algo-1, train throughput=134670.565858 records/second\u001b[0m\n",
      "\u001b[31m[10/30/2018 23:00:17 INFO 139977314821952] shrinking 100 centers into 10\u001b[0m\n",
      "\u001b[31m[10/30/2018 23:00:17 INFO 139977314821952] local kmeans attempt #0. Current mean square distance 11.543690\u001b[0m\n",
      "\u001b[31m[10/30/2018 23:00:17 INFO 139977314821952] local kmeans attempt #1. Current mean square distance 10.644783\u001b[0m\n",
      "\u001b[31m[10/30/2018 23:00:17 INFO 139977314821952] local kmeans attempt #2. Current mean square distance 10.437803\u001b[0m\n",
      "\u001b[32m[10/30/2018 23:00:17 INFO 140596585867072] processed a total of 25000 examples\u001b[0m\n",
      "\u001b[32m[10/30/2018 23:00:17 INFO 140596585867072] #progress_metric: host=algo-2, completed 100 % of epochs\u001b[0m\n",
      "\u001b[32m#metrics {\"Metrics\": {\"Max Batches Seen Between Resets\": {\"count\": 1, \"max\": 5, \"sum\": 5.0, \"min\": 5}, \"Number of Batches Since Last Reset\": {\"count\": 1, \"max\": 5, \"sum\": 5.0, \"min\": 5}, \"Number of Records Since Last Reset\": {\"count\": 1, \"max\": 25000, \"sum\": 25000.0, \"min\": 25000}, \"Total Batches Seen\": {\"count\": 1, \"max\": 6, \"sum\": 6.0, \"min\": 6}, \"Total Records Seen\": {\"count\": 1, \"max\": 30000, \"sum\": 30000.0, \"min\": 30000}, \"Max Records Seen Between Resets\": {\"count\": 1, \"max\": 25000, \"sum\": 25000.0, \"min\": 25000}, \"Reset Count\": {\"count\": 1, \"max\": 1, \"sum\": 1.0, \"min\": 1}}, \"EndTime\": 1540940417.441637, \"Dimensions\": {\"Host\": \"algo-2\", \"Meta\": \"training_data_iter\", \"Operation\": \"training\", \"Algorithm\": \"AWS/KMeansWebscale\", \"epoch\": 0}, \"StartTime\": 1540940417.245354}\n",
      "\u001b[0m\n",
      "\u001b[32m[10/30/2018 23:00:17 INFO 140596585867072] #throughput_metric: host=algo-2, train throughput=127286.035968 records/second\u001b[0m\n",
      "\u001b[32m[10/30/2018 23:00:17 INFO 140596585867072] shrinking 100 centers into 10\u001b[0m\n",
      "\u001b[32m[10/30/2018 23:00:17 INFO 140596585867072] local kmeans attempt #0. Current mean square distance 10.698187\u001b[0m\n",
      "\u001b[32m[10/30/2018 23:00:17 INFO 140596585867072] local kmeans attempt #1. Current mean square distance 10.709107\u001b[0m\n",
      "\u001b[32m[10/30/2018 23:00:17 INFO 140596585867072] local kmeans attempt #2. Current mean square distance 10.927950\u001b[0m\n",
      "\u001b[32m[10/30/2018 23:00:17 INFO 140596585867072] local kmeans attempt #3. Current mean square distance 10.660652\u001b[0m\n",
      "\u001b[32m[10/30/2018 23:00:17 INFO 140596585867072] local kmeans attempt #4. Current mean square distance 11.205967\u001b[0m\n",
      "\u001b[32m[10/30/2018 23:00:17 INFO 140596585867072] local kmeans attempt #5. Current mean square distance 10.999044\u001b[0m\n",
      "\u001b[32m[10/30/2018 23:00:17 INFO 140596585867072] local kmeans attempt #6. Current mean square distance 11.615012\u001b[0m\n",
      "\u001b[32m[10/30/2018 23:00:17 INFO 140596585867072] local kmeans attempt #7. Current mean square distance 11.065723\u001b[0m\n",
      "\u001b[32m[10/30/2018 23:00:17 INFO 140596585867072] local kmeans attempt #8. Current mean square distance 10.742940\u001b[0m\n",
      "\u001b[32m[10/30/2018 23:00:17 INFO 140596585867072] local kmeans attempt #9. Current mean square distance 10.737556\u001b[0m\n",
      "\u001b[32m[10/30/2018 23:00:17 INFO 140596585867072] finished shrinking process. Mean Square Distance = 11\u001b[0m\n",
      "\u001b[32m[10/30/2018 23:00:17 INFO 140596585867072] #quality_metric: host=algo-2, train msd <loss>=10.6606521606\u001b[0m\n",
      "\u001b[32m[10/30/2018 23:00:17 INFO 140596585867072] compute all data-center distances: inner product took: 28.7315%, (0.057117 secs)\u001b[0m\n",
      "\u001b[32m[10/30/2018 23:00:17 INFO 140596585867072] batch data loading with context took: 20.9504%, (0.041648 secs)\u001b[0m\n",
      "\u001b[32m[10/30/2018 23:00:17 INFO 140596585867072] compute all data-center distances: point norm took: 17.0649%, (0.033924 secs)\u001b[0m\n",
      "\u001b[32m[10/30/2018 23:00:17 INFO 140596585867072] predict compute msd took: 10.7991%, (0.021468 secs)\u001b[0m\n",
      "\u001b[32m[10/30/2018 23:00:17 INFO 140596585867072] collect from kv store took: 8.3035%, (0.016507 secs)\u001b[0m\n",
      "\u001b[32m[10/30/2018 23:00:17 INFO 140596585867072] gradient: cluster center took: 7.3246%, (0.014561 secs)\u001b[0m\n",
      "\u001b[32m[10/30/2018 23:00:17 INFO 140596585867072] splitting centers key-value pair took: 2.1513%, (0.004277 secs)\u001b[0m\n",
      "\u001b[32m[10/30/2018 23:00:17 INFO 140596585867072] gradient: one_hot took: 1.8628%, (0.003703 secs)\u001b[0m\n",
      "\u001b[32m[10/30/2018 23:00:17 INFO 140596585867072] gradient: cluster size  took: 1.5716%, (0.003124 secs)\u001b[0m\n",
      "\u001b[32m[10/30/2018 23:00:17 INFO 140596585867072] update state and report convergance took: 0.5765%, (0.001146 secs)\u001b[0m\n",
      "\u001b[32m[10/30/2018 23:00:17 INFO 140596585867072] compute all data-center distances: center norm took: 0.5131%, (0.001020 secs)\u001b[0m\n",
      "\u001b[32m[10/30/2018 23:00:17 INFO 140596585867072] update set-up time took: 0.0987%, (0.000196 secs)\u001b[0m\n",
      "\u001b[32m[10/30/2018 23:00:17 INFO 140596585867072] predict minus dist took: 0.0519%, (0.000103 secs)\u001b[0m\n",
      "\u001b[32m[10/30/2018 23:00:17 INFO 140596585867072] TOTAL took: 0.198794126511\u001b[0m\n",
      "\u001b[32m[10/30/2018 23:00:17 INFO 140596585867072] Number of GPUs being used: 0\u001b[0m\n",
      "\u001b[32m[10/30/2018 23:00:17 INFO 140596585867072] No model is serialized on a non-master node\u001b[0m\n",
      "\u001b[32m#metrics {\"Metrics\": {\"finalize.time\": {\"count\": 1, \"max\": 310.4748725891113, \"sum\": 310.4748725891113, \"min\": 310.4748725891113}, \"initialize.time\": {\"count\": 1, \"max\": 16.549110412597656, \"sum\": 16.549110412597656, \"min\": 16.549110412597656}, \"model.serialize.time\": {\"count\": 1, \"max\": 0.07796287536621094, \"sum\": 0.07796287536621094, \"min\": 0.07796287536621094}, \"update.time\": {\"count\": 1, \"max\": 196.1081027984619, \"sum\": 196.1081027984619, \"min\": 196.1081027984619}, \"epochs\": {\"count\": 1, \"max\": 1, \"sum\": 1.0, \"min\": 1}, \"state.serialize.time\": {\"count\": 1, \"max\": 0.4057884216308594, \"sum\": 0.4057884216308594, \"min\": 0.4057884216308594}, \"_shrink.time\": {\"count\": 1, \"max\": 306.5791130065918, \"sum\": 306.5791130065918, \"min\": 306.5791130065918}}, \"EndTime\": 1540940417.753601, \"Dimensions\": {\"Host\": \"algo-2\", \"Operation\": \"training\", \"Algorithm\": \"AWS/KMeansWebscale\"}, \"StartTime\": 1540940417.198672}\n",
      "\u001b[0m\n",
      "\u001b[32m[10/30/2018 23:00:17 INFO 140596585867072] Test data is not provided.\u001b[0m\n",
      "\u001b[32m[2018-10-30 23:00:17.753] [tensorio] [info] data_pipeline_stats={\"name\": \"/opt/ml/input/data/train\", \"epoch\": 2, \"duration\": 508, \"num_examples\": 5}\u001b[0m\n",
      "\u001b[32m[2018-10-30 23:00:17.753] [tensorio] [info] data_pipeline_stats={\"name\": \"/opt/ml/input/data/train\", \"duration\": 553, \"num_epochs\": 2, \"num_examples\": 6}\u001b[0m\n",
      "\u001b[32m#metrics {\"Metrics\": {\"totaltime\": {\"count\": 1, \"max\": 4040.2607917785645, \"sum\": 4040.2607917785645, \"min\": 4040.2607917785645}, \"setuptime\": {\"count\": 1, \"max\": 2021.1639404296875, \"sum\": 2021.1639404296875, \"min\": 2021.1639404296875}}, \"EndTime\": 1540940417.757417, \"Dimensions\": {\"Host\": \"algo-2\", \"Operation\": \"training\", \"Algorithm\": \"AWS/KMeansWebscale\"}, \"StartTime\": 1540940417.753706}\n",
      "\u001b[0m\n",
      "\u001b[31m[10/30/2018 23:00:17 INFO 139977314821952] local kmeans attempt #3. Current mean square distance 10.789558\u001b[0m\n",
      "\u001b[31m[10/30/2018 23:00:17 INFO 139977314821952] local kmeans attempt #4. Current mean square distance 11.421761\u001b[0m\n",
      "\u001b[31m[10/30/2018 23:00:17 INFO 139977314821952] local kmeans attempt #5. Current mean square distance 11.067478\u001b[0m\n",
      "\u001b[31m[10/30/2018 23:00:17 INFO 139977314821952] local kmeans attempt #6. Current mean square distance 10.857681\u001b[0m\n",
      "\u001b[31m[10/30/2018 23:00:17 INFO 139977314821952] local kmeans attempt #7. Current mean square distance 10.726277\u001b[0m\n",
      "\u001b[31m[10/30/2018 23:00:17 INFO 139977314821952] local kmeans attempt #8. Current mean square distance 10.707098\u001b[0m\n",
      "\u001b[31m[10/30/2018 23:00:17 INFO 139977314821952] local kmeans attempt #9. Current mean square distance 10.648572\u001b[0m\n",
      "\u001b[31m[10/30/2018 23:00:17 INFO 139977314821952] finished shrinking process. Mean Square Distance = 10\u001b[0m\n",
      "\u001b[31m[10/30/2018 23:00:17 INFO 139977314821952] #quality_metric: host=algo-1, train msd <loss>=10.4378032684\u001b[0m\n",
      "\u001b[31m[10/30/2018 23:00:17 INFO 139977314821952] compute all data-center distances: inner product took: 27.1161%, (0.050586 secs)\u001b[0m\n",
      "\u001b[31m[10/30/2018 23:00:17 INFO 139977314821952] batch data loading with context took: 23.0524%, (0.043005 secs)\u001b[0m\n",
      "\u001b[31m[10/30/2018 23:00:17 INFO 139977314821952] compute all data-center distances: point norm took: 18.9066%, (0.035271 secs)\u001b[0m\n",
      "\u001b[31m[10/30/2018 23:00:17 INFO 139977314821952] predict compute msd took: 11.8088%, (0.022030 secs)\u001b[0m\n",
      "\u001b[31m[10/30/2018 23:00:17 INFO 139977314821952] gradient: cluster center took: 8.4405%, (0.015746 secs)\u001b[0m\n",
      "\u001b[31m[10/30/2018 23:00:17 INFO 139977314821952] collect from kv store took: 3.4252%, (0.006390 secs)\u001b[0m\n",
      "\u001b[31m[10/30/2018 23:00:17 INFO 139977314821952] gradient: one_hot took: 2.1221%, (0.003959 secs)\u001b[0m\n",
      "\u001b[31m[10/30/2018 23:00:17 INFO 139977314821952] splitting centers key-value pair took: 1.8097%, (0.003376 secs)\u001b[0m\n",
      "\u001b[31m[10/30/2018 23:00:17 INFO 139977314821952] gradient: cluster size  took: 1.8025%, (0.003363 secs)\u001b[0m\n",
      "\u001b[31m[10/30/2018 23:00:17 INFO 139977314821952] update state and report convergance took: 0.7248%, (0.001352 secs)\u001b[0m\n",
      "\u001b[31m[10/30/2018 23:00:17 INFO 139977314821952] compute all data-center distances: center norm took: 0.6321%, (0.001179 secs)\u001b[0m\n",
      "\u001b[31m[10/30/2018 23:00:17 INFO 139977314821952] update set-up time took: 0.0948%, (0.000177 secs)\u001b[0m\n",
      "\u001b[31m[10/30/2018 23:00:17 INFO 139977314821952] predict minus dist took: 0.0644%, (0.000120 secs)\u001b[0m\n",
      "\u001b[31m[10/30/2018 23:00:17 INFO 139977314821952] TOTAL took: 0.186553478241\u001b[0m\n",
      "\u001b[31m[10/30/2018 23:00:17 INFO 139977314821952] Number of GPUs being used: 0\u001b[0m\n",
      "\u001b[31m#metrics {\"Metrics\": {\"finalize.time\": {\"count\": 1, \"max\": 360.8999252319336, \"sum\": 360.8999252319336, \"min\": 360.8999252319336}, \"initialize.time\": {\"count\": 1, \"max\": 16.816139221191406, \"sum\": 16.816139221191406, \"min\": 16.816139221191406}, \"model.serialize.time\": {\"count\": 1, \"max\": 0.24199485778808594, \"sum\": 0.24199485778808594, \"min\": 0.24199485778808594}, \"update.time\": {\"count\": 1, \"max\": 185.316801071167, \"sum\": 185.316801071167, \"min\": 185.316801071167}, \"epochs\": {\"count\": 1, \"max\": 1, \"sum\": 1.0, \"min\": 1}, \"state.serialize.time\": {\"count\": 1, \"max\": 0.5130767822265625, \"sum\": 0.5130767822265625, \"min\": 0.5130767822265625}, \"_shrink.time\": {\"count\": 1, \"max\": 359.07697677612305, \"sum\": 359.07697677612305, \"min\": 359.07697677612305}}, \"EndTime\": 1540940417.804073, \"Dimensions\": {\"Host\": \"algo-1\", \"Operation\": \"training\", \"Algorithm\": \"AWS/KMeansWebscale\"}, \"StartTime\": 1540940417.198546}\n",
      "\u001b[0m\n",
      "\u001b[31m[10/30/2018 23:00:17 INFO 139977314821952] Test data is not provided.\u001b[0m\n",
      "\u001b[31m[2018-10-30 23:00:17.804] [tensorio] [info] data_pipeline_stats={\"name\": \"/opt/ml/input/data/train\", \"epoch\": 2, \"duration\": 560, \"num_examples\": 5}\u001b[0m\n",
      "\u001b[31m[2018-10-30 23:00:17.804] [tensorio] [info] data_pipeline_stats={\"name\": \"/opt/ml/input/data/train\", \"duration\": 604, \"num_epochs\": 2, \"num_examples\": 6}\u001b[0m\n",
      "\u001b[31m#metrics {\"Metrics\": {\"totaltime\": {\"count\": 1, \"max\": 1757.5390338897705, \"sum\": 1757.5390338897705, \"min\": 1757.5390338897705}, \"setuptime\": {\"count\": 1, \"max\": 22.51291275024414, \"sum\": 22.51291275024414, \"min\": 22.51291275024414}}, \"EndTime\": 1540940417.810371, \"Dimensions\": {\"Host\": \"algo-1\", \"Operation\": \"training\", \"Algorithm\": \"AWS/KMeansWebscale\"}, \"StartTime\": 1540940417.804186}\n",
      "\u001b[0m\n"
     ]
    },
    {
     "name": "stdout",
     "output_type": "stream",
     "text": [
      "\n",
      "2018-10-30 23:00:25 Uploading - Uploading generated training model\n",
      "2018-10-30 23:00:25 Completed - Training job completed\n",
      "Billable seconds: 70\n",
      "CPU times: user 8.26 s, sys: 333 ms, total: 8.6 s\n",
      "Wall time: 3min 22s\n"
     ]
    }
   ],
   "source": [
    "%%time\n",
    "\n",
    "kmeans.fit(kmeans.record_set(train_set[0]))"
   ]
  },
  {
   "cell_type": "markdown",
   "metadata": {},
   "source": [
    "## Set up hosting for the model\n",
    "\n",
    "NOTE: Only run this once, or if you have deleted the endpoint.  This is the code that provisions the API endpoint\n",
    "to be used for inferences and should stay up and running all the time"
   ]
  },
  {
   "cell_type": "code",
   "execution_count": 10,
   "metadata": {},
   "outputs": [
    {
     "name": "stderr",
     "output_type": "stream",
     "text": [
      "INFO:sagemaker:Creating model with name: kmeans-2018-10-30-23-01-41-012\n",
      "INFO:sagemaker:Creating endpoint with name kmeans-2018-10-30-22-57-45-205\n"
     ]
    },
    {
     "name": "stdout",
     "output_type": "stream",
     "text": [
      "--------------------------------------------------------------!CPU times: user 282 ms, sys: 11.9 ms, total: 294 ms\n",
      "Wall time: 5min 13s\n"
     ]
    }
   ],
   "source": [
    "%%time\n",
    "\n",
    "kmeans_predictor = kmeans.deploy(initial_instance_count=1,\n",
    "                                 instance_type='ml.m4.xlarge')"
   ]
  },
  {
   "cell_type": "markdown",
   "metadata": {},
   "source": [
    "## Validate the model for use\n",
    "Make an inference for a single known observation"
   ]
  },
  {
   "cell_type": "code",
   "execution_count": 11,
   "metadata": {},
   "outputs": [
    {
     "name": "stdout",
     "output_type": "stream",
     "text": [
      "[label {\n",
      "  key: \"closest_cluster\"\n",
      "  value {\n",
      "    float32_tensor {\n",
      "      values: 6.0\n",
      "    }\n",
      "  }\n",
      "}\n",
      "label {\n",
      "  key: \"distance_to_cluster\"\n",
      "  value {\n",
      "    float32_tensor {\n",
      "      values: 7.074774742126465\n",
      "    }\n",
      "  }\n",
      "}\n",
      "]\n"
     ]
    }
   ],
   "source": [
    "result = kmeans_predictor.predict(train_set[0][30:31])\n",
    "print(result)"
   ]
  },
  {
   "cell_type": "markdown",
   "metadata": {},
   "source": [
    "OK, a single prediction works.\n",
    "\n",
    "Let's do a whole batch and see how well the clustering works."
   ]
  },
  {
   "cell_type": "code",
   "execution_count": 12,
   "metadata": {},
   "outputs": [
    {
     "name": "stdout",
     "output_type": "stream",
     "text": [
      "CPU times: user 31.5 ms, sys: 0 ns, total: 31.5 ms\n",
      "Wall time: 142 ms\n"
     ]
    }
   ],
   "source": [
    "%%time \n",
    "\n",
    "result = kmeans_predictor.predict(valid_set[0][0:100])\n",
    "clusters = [r.label['closest_cluster'].float32_tensor.values[0] for r in result]"
   ]
  },
  {
   "cell_type": "code",
   "execution_count": 13,
   "metadata": {},
   "outputs": [
    {
     "name": "stdout",
     "output_type": "stream",
     "text": [
      "\n",
      "\n",
      "\n",
      "Cluster 0:\n"
     ]
    },
    {
     "data": {
      "image/png": "[encoded data removed]",
      "text/plain": [
       "<Figure size 360x216 with 15 Axes>"
      ]
     },
     "metadata": {},
     "output_type": "display_data"
    },
    {
     "name": "stdout",
     "output_type": "stream",
     "text": [
      "\n",
      "\n",
      "\n",
      "Cluster 1:\n"
     ]
    },
    {
     "data": {
      "image/png": "[encoded data removed]",
      "text/plain": [
       "<Figure size 360x216 with 15 Axes>"
      ]
     },
     "metadata": {},
     "output_type": "display_data"
    },
    {
     "name": "stdout",
     "output_type": "stream",
     "text": [
      "\n",
      "\n",
      "\n",
      "Cluster 2:\n"
     ]
    },
    {
     "data": {
      "image/png": "[encoded data removed]",
      "text/plain": [
       "<Figure size 360x144 with 10 Axes>"
      ]
     },
     "metadata": {},
     "output_type": "display_data"
    },
    {
     "name": "stdout",
     "output_type": "stream",
     "text": [
      "\n",
      "\n",
      "\n",
      "Cluster 3:\n"
     ]
    },
    {
     "data": {
      "image/png": "[encoded data removed]",
      "text/plain": [
       "<Figure size 360x144 with 10 Axes>"
      ]
     },
     "metadata": {},
     "output_type": "display_data"
    },
    {
     "name": "stdout",
     "output_type": "stream",
     "text": [
      "\n",
      "\n",
      "\n",
      "Cluster 4:\n"
     ]
    },
    {
     "data": {
      "image/png": "[encoded data removed]",
      "text/plain": [
       "<Figure size 360x144 with 10 Axes>"
      ]
     },
     "metadata": {},
     "output_type": "display_data"
    },
    {
     "name": "stdout",
     "output_type": "stream",
     "text": [
      "\n",
      "\n",
      "\n",
      "Cluster 5:\n"
     ]
    },
    {
     "data": {
      "image/png": "[encoded data removed]",
      "text/plain": [
       "<Figure size 360x72 with 5 Axes>"
      ]
     },
     "metadata": {},
     "output_type": "display_data"
    },
    {
     "name": "stdout",
     "output_type": "stream",
     "text": [
      "\n",
      "\n",
      "\n",
      "Cluster 6:\n"
     ]
    },
    {
     "data": {
      "image/png": "[encoded data removed]",
      "text/plain": [
       "<Figure size 360x216 with 15 Axes>"
      ]
     },
     "metadata": {},
     "output_type": "display_data"
    },
    {
     "name": "stdout",
     "output_type": "stream",
     "text": [
      "\n",
      "\n",
      "\n",
      "Cluster 7:\n"
     ]
    },
    {
     "data": {
      "image/png": "[encoded data removed]",
      "text/plain": [
       "<Figure size 360x144 with 10 Axes>"
      ]
     },
     "metadata": {},
     "output_type": "display_data"
    },
    {
     "name": "stdout",
     "output_type": "stream",
     "text": [
      "\n",
      "\n",
      "\n",
      "Cluster 8:\n"
     ]
    },
    {
     "data": {
      "image/png": "[encoded data removed]",
      "text/plain": [
       "<Figure size 360x72 with 5 Axes>"
      ]
     },
     "metadata": {},
     "output_type": "display_data"
    },
    {
     "name": "stdout",
     "output_type": "stream",
     "text": [
      "\n",
      "\n",
      "\n",
      "Cluster 9:\n"
     ]
    },
    {
     "data": {
      "image/png": "[encoded data removed]",
      "text/plain": [
       "<Figure size 360x360 with 25 Axes>"
      ]
     },
     "metadata": {},
     "output_type": "display_data"
    }
   ],
   "source": [
    "for cluster in range(10):\n",
    "    print('\\n\\n\\nCluster {}:'.format(int(cluster)))\n",
    "    digits = [ img for l, img in zip(clusters, valid_set[0]) if int(l) == cluster ]\n",
    "    height=((len(digits)-1)//5)+1\n",
    "    width=5\n",
    "    plt.rcParams[\"figure.figsize\"] = (width,height)\n",
    "    _, subplots = plt.subplots(height, width)\n",
    "    subplots=numpy.ndarray.flatten(subplots)\n",
    "    for subplot, image in zip(subplots, digits):\n",
    "        show_digit(image, subplot=subplot)\n",
    "    for subplot in subplots[len(digits):]:\n",
    "        subplot.axis('off')\n",
    "\n",
    "    plt.show()"
   ]
  },
  {
   "cell_type": "markdown",
   "metadata": {},
   "source": [
    "### The bottom line\n",
    "\n",
    "K-Means clustering is not the best algorithm for image analysis problems, but we do see pretty reasonable clusters being built."
   ]
  },
  {
   "cell_type": "markdown",
   "metadata": {},
   "source": [
    "### (Optional) Delete the Endpoint\n",
    "If you're ready to be done with this notebook, make sure run the cell below.  This will remove the hosted endpoint you created and avoid any charges from a stray instance being left on."
   ]
  },
  {
   "cell_type": "code",
   "execution_count": 10,
   "metadata": {},
   "outputs": [
    {
     "name": "stdout",
     "output_type": "stream",
     "text": [
      "kmeans-2018-04-09-01-39-22-457\n"
     ]
    }
   ],
   "source": [
    "print(kmeans_predictor.endpoint)"
   ]
  }
 ],
 "metadata": {
  "kernelspec": {
   "display_name": "conda_python3",
   "language": "python",
   "name": "conda_python3"
  },
  "language_info": {
   "codemirror_mode": {
    "name": "ipython",
    "version": 3
   },
   "file_extension": ".py",
   "mimetype": "text/x-python",
   "name": "python",
   "nbconvert_exporter": "python",
   "pygments_lexer": "ipython3",
   "version": "3.6.5"
  },
  "notice": "Copyright 2017 Amazon.com, Inc. or its affiliates. All Rights Reserved.  Licensed under the Apache License, Version 2.0 (the \"License\"). You may not use this file except in compliance with the License. A copy of the License is located at http://aws.amazon.com/apache2.0/ or in the \"license\" file accompanying this file. This file is distributed on an \"AS IS\" BASIS, WITHOUT WARRANTIES OR CONDITIONS OF ANY KIND, either express or implied. See the License for the specific language governing permissions and limitations under the License."
 },
 "nbformat": 4,
 "nbformat_minor": 2
}
